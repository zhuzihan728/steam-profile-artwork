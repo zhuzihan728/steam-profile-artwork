{
 "cells": [
  {
   "cell_type": "markdown",
   "id": "24557683",
   "metadata": {},
   "source": [
    "# Clone Repository"
   ]
  },
  {
   "cell_type": "code",
   "execution_count": 2,
   "id": "51593687",
   "metadata": {},
   "outputs": [
    {
     "name": "stderr",
     "output_type": "stream",
     "text": [
      "fatal: destination path 'anime-segmentation' already exists and is not an empty directory.\n"
     ]
    }
   ],
   "source": [
    "!git clone https://github.com/zhuzihan728/anime-segmentation.git"
   ]
  },
  {
   "cell_type": "markdown",
   "id": "e27ef63c",
   "metadata": {},
   "source": [
    "# Download libs and models"
   ]
  },
  {
   "cell_type": "code",
   "execution_count": null,
   "id": "7cf583b7",
   "metadata": {},
   "outputs": [],
   "source": [
    "!pip install torch torchvision torchaudio --index-url https://download.pytorch.org/whl/cu126"
   ]
  },
  {
   "cell_type": "code",
   "execution_count": null,
   "id": "39d6a5d2",
   "metadata": {},
   "outputs": [],
   "source": [
    "!pip install -r \"anime-segmentation\\requirements.txt\"\n"
   ]
  },
  {
   "cell_type": "code",
   "execution_count": 14,
   "id": "ef997d1a",
   "metadata": {},
   "outputs": [
    {
     "name": "stdout",
     "output_type": "stream",
     "text": [
      "c:\\Users\\22674\\Desktop\\Code\\ML\\BGRemover\\anime-segmentation\n"
     ]
    }
   ],
   "source": [
    "%cd anime-segmentation"
   ]
  },
  {
   "cell_type": "code",
   "execution_count": 15,
   "id": "53f33f25",
   "metadata": {},
   "outputs": [
    {
     "name": "stderr",
     "output_type": "stream",
     "text": [
      "Cloning into 'anime-seg'...\n",
      "Filtering content:  66% (2/3)\n",
      "Filtering content:  66% (2/3), 362.73 MiB | 242.98 MiB/s\n",
      "Filtering content: 100% (3/3), 362.73 MiB | 242.98 MiB/s\n",
      "Filtering content: 100% (3/3), 557.26 MiB | 162.07 MiB/s\n",
      "Filtering content: 100% (3/3), 557.26 MiB | 54.24 MiB/s, done.\n"
     ]
    }
   ],
   "source": [
    "!git clone https://huggingface.co/skytnt/anime-seg"
   ]
  },
  {
   "cell_type": "markdown",
   "id": "06f149e5",
   "metadata": {},
   "source": [
    "# Make JPG Frames\n",
    "\n",
    "- 10 fps"
   ]
  },
  {
   "cell_type": "markdown",
   "id": "0c29a406",
   "metadata": {},
   "source": [
    "# Inference at */anime-segmentation"
   ]
  },
  {
   "cell_type": "code",
   "execution_count": 17,
   "id": "00f6b00a",
   "metadata": {},
   "outputs": [
    {
     "name": "stdout",
     "output_type": "stream",
     "text": [
      "Namespace(net='isnet_is', ckpt='anime-seg/isnetis.ckpt', data='../frames', out='../out', img_size=1024, device='cuda:0', fp32=False, only_matted=True, bg_white=False)\n"
     ]
    },
    {
     "name": "stderr",
     "output_type": "stream",
     "text": [
      "c:\\Users\\22674\\Desktop\\Code\\ML\\BGRemover\\.conda\\Lib\\site-packages\\timm\\models\\layers\\__init__.py:48: FutureWarning: Importing from timm.models.layers is deprecated, please import via timm.layers\n",
      "  warnings.warn(f\"Importing from {__name__} is deprecated, please import via timm.layers\", FutureWarning)\n",
      "\n",
      "  0%|          | 0/60 [00:00<?, ?it/s]c:\\Users\\22674\\Desktop\\Code\\ML\\BGRemover\\anime-segmentation\\inference.py:26: FutureWarning: `torch.cuda.amp.autocast(args...)` is deprecated. Please use `torch.amp.autocast('cuda', args...)` instead.\n",
      "  with amp.autocast():\n",
      "\n",
      "  2%|▏         | 1/60 [00:00<00:33,  1.76it/s]\n",
      "  3%|▎         | 2/60 [00:00<00:20,  2.85it/s]\n",
      "  5%|▌         | 3/60 [00:00<00:15,  3.57it/s]\n",
      "  7%|▋         | 4/60 [00:01<00:13,  4.09it/s]\n",
      "  8%|▊         | 5/60 [00:01<00:12,  4.44it/s]\n",
      " 10%|█         | 6/60 [00:01<00:11,  4.72it/s]\n",
      " 12%|█▏        | 7/60 [00:01<00:10,  4.94it/s]\n",
      " 13%|█▎        | 8/60 [00:01<00:10,  5.12it/s]\n",
      " 15%|█▌        | 9/60 [00:02<00:09,  5.28it/s]\n",
      " 17%|█▋        | 10/60 [00:02<00:09,  5.42it/s]\n",
      " 18%|█▊        | 11/60 [00:02<00:08,  5.52it/s]\n",
      " 20%|██        | 12/60 [00:02<00:08,  5.54it/s]\n",
      " 22%|██▏       | 13/60 [00:02<00:08,  5.58it/s]\n",
      " 23%|██▎       | 14/60 [00:02<00:08,  5.53it/s]\n",
      " 25%|██▌       | 15/60 [00:03<00:08,  5.58it/s]\n",
      " 27%|██▋       | 16/60 [00:03<00:07,  5.54it/s]\n",
      " 28%|██▊       | 17/60 [00:03<00:07,  5.60it/s]\n",
      " 30%|███       | 18/60 [00:03<00:07,  5.51it/s]\n",
      " 32%|███▏      | 19/60 [00:03<00:07,  5.60it/s]\n",
      " 33%|███▎      | 20/60 [00:04<00:07,  5.65it/s]\n",
      " 35%|███▌      | 21/60 [00:04<00:06,  5.67it/s]\n",
      " 37%|███▋      | 22/60 [00:04<00:06,  5.68it/s]\n",
      " 38%|███▊      | 23/60 [00:04<00:06,  5.70it/s]\n",
      " 40%|████      | 24/60 [00:04<00:06,  5.69it/s]\n",
      " 42%|████▏     | 25/60 [00:04<00:06,  5.72it/s]\n",
      " 43%|████▎     | 26/60 [00:05<00:05,  5.69it/s]\n",
      " 45%|████▌     | 27/60 [00:05<00:05,  5.62it/s]\n",
      " 47%|████▋     | 28/60 [00:05<00:05,  5.66it/s]\n",
      " 48%|████▊     | 29/60 [00:05<00:05,  5.69it/s]\n",
      " 50%|█████     | 30/60 [00:05<00:05,  5.45it/s]\n",
      " 52%|█████▏    | 31/60 [00:05<00:05,  5.37it/s]\n",
      " 53%|█████▎    | 32/60 [00:06<00:05,  5.33it/s]\n",
      " 55%|█████▌    | 33/60 [00:06<00:05,  5.30it/s]\n",
      " 57%|█████▋    | 34/60 [00:06<00:04,  5.26it/s]\n",
      " 58%|█████▊    | 35/60 [00:06<00:04,  5.23it/s]\n",
      " 60%|██████    | 36/60 [00:06<00:04,  5.18it/s]\n",
      " 62%|██████▏   | 37/60 [00:07<00:04,  5.16it/s]\n",
      " 63%|██████▎   | 38/60 [00:07<00:04,  5.12it/s]\n",
      " 65%|██████▌   | 39/60 [00:07<00:04,  5.14it/s]\n",
      " 67%|██████▋   | 40/60 [00:07<00:03,  5.10it/s]\n",
      " 68%|██████▊   | 41/60 [00:07<00:03,  5.14it/s]\n",
      " 70%|███████   | 42/60 [00:08<00:03,  5.17it/s]\n",
      " 72%|███████▏  | 43/60 [00:08<00:03,  5.16it/s]\n",
      " 73%|███████▎  | 44/60 [00:08<00:03,  5.14it/s]\n",
      " 75%|███████▌  | 45/60 [00:08<00:02,  5.14it/s]\n",
      " 77%|███████▋  | 46/60 [00:08<00:02,  5.10it/s]\n",
      " 78%|███████▊  | 47/60 [00:09<00:02,  5.05it/s]\n",
      " 80%|████████  | 48/60 [00:09<00:02,  5.00it/s]\n",
      " 82%|████████▏ | 49/60 [00:09<00:02,  4.97it/s]\n",
      " 83%|████████▎ | 50/60 [00:09<00:02,  4.90it/s]\n",
      " 85%|████████▌ | 51/60 [00:09<00:01,  4.93it/s]\n",
      " 87%|████████▋ | 52/60 [00:10<00:01,  4.90it/s]\n",
      " 88%|████████▊ | 53/60 [00:10<00:01,  4.82it/s]\n",
      " 90%|█████████ | 54/60 [00:10<00:01,  4.82it/s]\n",
      " 92%|█████████▏| 55/60 [00:10<00:01,  4.83it/s]\n",
      " 93%|█████████▎| 56/60 [00:10<00:00,  4.82it/s]\n",
      " 95%|█████████▌| 57/60 [00:11<00:00,  4.83it/s]\n",
      " 97%|█████████▋| 58/60 [00:11<00:00,  4.85it/s]\n",
      " 98%|█████████▊| 59/60 [00:11<00:00,  4.78it/s]\n",
      "100%|██████████| 60/60 [00:11<00:00,  4.72it/s]\n",
      "100%|██████████| 60/60 [00:11<00:00,  5.07it/s]\n"
     ]
    }
   ],
   "source": [
    "!python inference.py --net isnet_is --ckpt anime-seg/isnetis.ckpt --data ../frames --out ../out --img-size 1024 --only-matted"
   ]
  },
  {
   "cell_type": "markdown",
   "id": "b83c5216",
   "metadata": {},
   "source": [
    "# Image Blending\n",
    "\n",
    "Steam profile background frames: 10 fps"
   ]
  }
 ],
 "metadata": {
  "kernelspec": {
   "display_name": ".conda",
   "language": "python",
   "name": "python3"
  },
  "language_info": {
   "codemirror_mode": {
    "name": "ipython",
    "version": 3
   },
   "file_extension": ".py",
   "mimetype": "text/x-python",
   "name": "python",
   "nbconvert_exporter": "python",
   "pygments_lexer": "ipython3",
   "version": "3.11.13"
  }
 },
 "nbformat": 4,
 "nbformat_minor": 5
}
